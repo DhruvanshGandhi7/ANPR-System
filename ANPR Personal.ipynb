{
 "cells": [
  {
   "cell_type": "code",
   "execution_count": 2,
   "id": "27ffdbd3",
   "metadata": {},
   "outputs": [
    {
     "name": "stdout",
     "output_type": "stream",
     "text": [
      "Requirement already satisfied: easyocr in c:\\users\\dhruv\\anaconda3\\lib\\site-packages (1.6.2)\n",
      "Requirement already satisfied: scikit-image in c:\\users\\dhruv\\anaconda3\\lib\\site-packages (from easyocr) (0.19.2)\n",
      "Requirement already satisfied: pyclipper in c:\\users\\dhruv\\anaconda3\\lib\\site-packages (from easyocr) (1.3.0.post4)\n",
      "Requirement already satisfied: python-bidi in c:\\users\\dhruv\\anaconda3\\lib\\site-packages (from easyocr) (0.4.2)\n",
      "Requirement already satisfied: Shapely in c:\\users\\dhruv\\anaconda3\\lib\\site-packages (from easyocr) (2.0.1)\n",
      "Requirement already satisfied: opencv-python-headless<=4.5.4.60 in c:\\users\\dhruv\\anaconda3\\lib\\site-packages (from easyocr) (4.5.4.60)\n",
      "Requirement already satisfied: torch in c:\\users\\dhruv\\anaconda3\\lib\\site-packages (from easyocr) (1.13.1)\n",
      "Requirement already satisfied: Pillow in c:\\users\\dhruv\\anaconda3\\lib\\site-packages (from easyocr) (9.2.0)\n",
      "Requirement already satisfied: PyYAML in c:\\users\\dhruv\\anaconda3\\lib\\site-packages (from easyocr) (6.0)\n",
      "Requirement already satisfied: scipy in c:\\users\\dhruv\\anaconda3\\lib\\site-packages (from easyocr) (1.9.1)\n",
      "Requirement already satisfied: numpy in c:\\users\\dhruv\\anaconda3\\lib\\site-packages (from easyocr) (1.21.5)\n",
      "Requirement already satisfied: torchvision>=0.5 in c:\\users\\dhruv\\anaconda3\\lib\\site-packages (from easyocr) (0.14.1)\n",
      "Requirement already satisfied: ninja in c:\\users\\dhruv\\anaconda3\\lib\\site-packages (from easyocr) (1.11.1)\n",
      "Requirement already satisfied: requests in c:\\users\\dhruv\\anaconda3\\lib\\site-packages (from torchvision>=0.5->easyocr) (2.28.1)\n",
      "Requirement already satisfied: typing-extensions in c:\\users\\dhruv\\anaconda3\\lib\\site-packages (from torchvision>=0.5->easyocr) (4.3.0)\n",
      "Requirement already satisfied: six in c:\\users\\dhruv\\anaconda3\\lib\\site-packages (from python-bidi->easyocr) (1.16.0)\n",
      "Requirement already satisfied: PyWavelets>=1.1.1 in c:\\users\\dhruv\\anaconda3\\lib\\site-packages (from scikit-image->easyocr) (1.3.0)\n",
      "Requirement already satisfied: packaging>=20.0 in c:\\users\\dhruv\\anaconda3\\lib\\site-packages (from scikit-image->easyocr) (21.3)\n",
      "Requirement already satisfied: tifffile>=2019.7.26 in c:\\users\\dhruv\\anaconda3\\lib\\site-packages (from scikit-image->easyocr) (2021.7.2)\n",
      "Requirement already satisfied: networkx>=2.2 in c:\\users\\dhruv\\anaconda3\\lib\\site-packages (from scikit-image->easyocr) (2.8.4)\n",
      "Requirement already satisfied: imageio>=2.4.1 in c:\\users\\dhruv\\anaconda3\\lib\\site-packages (from scikit-image->easyocr) (2.19.3)\n",
      "Requirement already satisfied: pyparsing!=3.0.5,>=2.0.2 in c:\\users\\dhruv\\anaconda3\\lib\\site-packages (from packaging>=20.0->scikit-image->easyocr) (3.0.9)\n",
      "Requirement already satisfied: charset-normalizer<3,>=2 in c:\\users\\dhruv\\anaconda3\\lib\\site-packages (from requests->torchvision>=0.5->easyocr) (2.0.4)\n",
      "Requirement already satisfied: idna<4,>=2.5 in c:\\users\\dhruv\\anaconda3\\lib\\site-packages (from requests->torchvision>=0.5->easyocr) (3.3)\n",
      "Requirement already satisfied: certifi>=2017.4.17 in c:\\users\\dhruv\\anaconda3\\lib\\site-packages (from requests->torchvision>=0.5->easyocr) (2022.9.14)\n",
      "Requirement already satisfied: urllib3<1.27,>=1.21.1 in c:\\users\\dhruv\\anaconda3\\lib\\site-packages (from requests->torchvision>=0.5->easyocr) (1.26.11)\n",
      "Requirement already satisfied: imutils in c:\\users\\dhruv\\anaconda3\\lib\\site-packages (0.5.4)\n"
     ]
    }
   ],
   "source": [
    "!pip install easyocr\n",
    "!pip install imutils"
   ]
  },
  {
   "cell_type": "code",
   "execution_count": null,
   "id": "048ced4b",
   "metadata": {},
   "outputs": [],
   "source": [
    "import cv2\n",
    "from matplotlib import pyplot as plt\n",
    "import numpy as np\n",
    "import imutils \n",
    "import easyocr"
   ]
  },
  {
   "cell_type": "code",
   "execution_count": null,
   "id": "1db34d72",
   "metadata": {},
   "outputs": [],
   "source": []
  },
  {
   "cell_type": "code",
   "execution_count": null,
   "id": "8d8412e7",
   "metadata": {},
   "outputs": [],
   "source": [
    "img = cv2.imread('image 2.jpeg')\n",
    "gray = cv2.cvtColor(img, cv2.COLOR_BGR2GRAY)\n",
    "plt.imshow(cv2.cvtColor(gray, cv2.COLOR_BGR2RGB))"
   ]
  },
  {
   "cell_type": "code",
   "execution_count": null,
   "id": "310d194b",
   "metadata": {},
   "outputs": [],
   "source": [
    "bfilter = cv2.bilateralFilter(gray, 11, 17, 17)\n",
    "edged = cv2.Canny(bfilter, 30, 200)\n",
    "plt.imshow(cv2.cvtColor(edged, cv2.COLOR_BGR2RGB))"
   ]
  },
  {
   "cell_type": "code",
   "execution_count": null,
   "id": "08feef68",
   "metadata": {},
   "outputs": [],
   "source": []
  }
 ],
 "metadata": {
  "kernelspec": {
   "display_name": "Python 3 (ipykernel)",
   "language": "python",
   "name": "python3"
  },
  "language_info": {
   "codemirror_mode": {
    "name": "ipython",
    "version": 3
   },
   "file_extension": ".py",
   "mimetype": "text/x-python",
   "name": "python",
   "nbconvert_exporter": "python",
   "pygments_lexer": "ipython3",
   "version": "3.9.13"
  }
 },
 "nbformat": 4,
 "nbformat_minor": 5
}
